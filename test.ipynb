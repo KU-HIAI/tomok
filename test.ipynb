{
 "cells": [
  {
   "cell_type": "code",
   "execution_count": 24,
   "metadata": {},
   "outputs": [],
   "source": [
    "from tomok.ifc import IFCReader"
   ]
  },
  {
   "cell_type": "code",
   "execution_count": 25,
   "metadata": {},
   "outputs": [],
   "source": [
    "reader = IFCReader(ifc_filepath=\"/Users/jaewooklee/Documents/Github/tomok/tomok/ED_extension_usingToolkit_v2.ifc\")"
   ]
  },
  {
   "cell_type": "code",
   "execution_count": 177,
   "metadata": {},
   "outputs": [
    {
     "data": {
      "text/plain": [
       "#206896=IfcBearing('3s45s2y_vBWuTHL$ihTpyq',#18,'Column-1020',$,$,#206895,#206892,'155815',.ELASTOMERIC.)"
      ]
     },
     "execution_count": 177,
     "metadata": {},
     "output_type": "execute_result"
    }
   ],
   "source": [
    "reader.get_products()\n",
    "e = reader.get_product_by_guid(guid=\"3s45s2y_vBWuTHL$ihTpyq\")\n",
    "e"
   ]
  },
  {
   "cell_type": "code",
   "execution_count": 182,
   "metadata": {},
   "outputs": [
    {
     "data": {
      "text/plain": [
       "'-'"
      ]
     },
     "execution_count": 182,
     "metadata": {},
     "output_type": "execute_result"
    }
   ],
   "source": [
    "e['KRPset_KDS 14 20 54_4.3.5 (1)'][\"The distance from the center of the anchor to the edge of the projected influence area required to develop the maximum bond strength\"]"
   ]
  },
  {
   "cell_type": "code",
   "execution_count": 158,
   "metadata": {},
   "outputs": [],
   "source": [
    "from tomok.core.rule_ifc import RuleIFC\n",
    "from tomok.ifc.reader import IFCReader\n",
    "from tomok.ifc.entity import Product\n",
    "\n",
    "from ruleunits import (\n",
    "    kds142054_040305_01,\n",
    "    kds142054_040305_03,\n",
    "    kds142054_040305_04,\n",
    "    kds142054_040305_05\n",
    ")\n",
    "\n",
    "\n",
    "class RuleIFC_KDS142054_01(RuleIFC):\n",
    "    # RuleIFC\n",
    "    def __init__(self,\n",
    "                 ifc_filename: str):\n",
    "        self.reader = IFCReader(ifc_filename) # IFCReader 생성\n",
    "        self.runit = {\n",
    "            '01': kds142054_040305_01.KDS142054_040305_01(),\n",
    "            '03': kds142054_040305_03.KDS142054_040305_03(),\n",
    "            '04': kds142054_040305_04.KDS142054_040305_04(),\n",
    "            '05': kds142054_040305_05.KDS142054_040305_05()\n",
    "        }\n",
    "\n",
    "    def retrieve_entities(self,\n",
    "                          guid: str):\n",
    "        self.reader.get_products() # IFC 파일에서 부재 목록을 읽어옵니다.\n",
    "        try:\n",
    "            target_entity = [self.reader.get_product_by_guid(guid)] # guid를 기반으로 부재를 검색합니다.\n",
    "        except:\n",
    "            return []\n",
    "        return target_entity\n",
    "\n",
    "    def _get_p_value(self,\n",
    "                     entity: Product,\n",
    "                     krpset_name: str,\n",
    "                     en_name: str):\n",
    "        try:\n",
    "            return entity[krpset_name][en_name]\n",
    "        except:                \n",
    "            return -1\n",
    "        \n",
    "    def process(self,\n",
    "                entity: Product):\n",
    "        try:\n",
    "            # KDS142054_040305_03\n",
    "            # fOpsecNa = self._get_p_value(entity=entity,\n",
    "            #                             krpset_name=\"KRPset_KDS 14 20 54_4.3.5 (3)\",\n",
    "            #                             en_name=\"Correction factor for attached anchor groups in which eccentricity of tensile force acts\")\n",
    "            fIeprimN = self._get_p_value(entity=entity,\n",
    "                                        krpset_name=\"KRPset_KDS 14 20 54_4.3.5 (3)\",\n",
    "                                        en_name=\"The distance between the resultant force of the tensile force acting on the anchor group subjected to tensile load and the centroid of the anchor group\")\n",
    "            fIcNa = self._get_p_value(entity=entity,\n",
    "                                      krpset_name=\"KRPset_KDS 14 20 54_4.3.5 (3)\",\n",
    "                                      en_name=\"The distance from the center of the anchor to the edge of the projected influence area required to develop the maximum bond strength\")\n",
    "            fOpsecNa = self.runit['03'].correction_factor_for_attached_anchor_groups_with_eccentricity_of_tensile_force(0, fIeprimN, fIcNa)\n",
    "            # KDS142054_040305_04\n",
    "            # fOpsedNa = self._get_p_value(entity=entity,\n",
    "            #                             krpset_name=\"KRPset_KDS 14 20 54_4.3.5 (4)\",\n",
    "            #                             en_name=\"Correction factor for edge influence of single anchor anchor or group of anchor anchors\")\n",
    "            fIcamin = self._get_p_value(entity=entity,\n",
    "                                    krpset_name=\"KRPset_KDS 14 20 54_4.3.5 (4)\",\n",
    "                                    en_name=\"Minimum edge distance from anchor shaft center to concrete end\")\n",
    "            fIcNa = self._get_p_value(entity=entity,\n",
    "                                    krpset_name=\"KRPset_KDS 14 20 54_4.3.5 (4)\",\n",
    "                                    en_name=\"The distance from the center of the anchor to the edge of the projected influence area required to develop the maximum bond strength\")\n",
    "            fOpsedNa = self.runit['04'].correction_factor_for_edge_influence_of_single_or_group_of_anchor(0, fIcamin, fIcNa)\n",
    "            # KDS142054_040305_05\n",
    "            # fOpscpNa = self._get_p_value(entity=entity,\n",
    "            #                             krpset_name=\"KRPset_KDS 14 20 54_4.3.5 (5)\",\n",
    "            #                             en_name=\"Modification factors for bonded anchors used in uncracked concrete\")\n",
    "            fIcamin = self._get_p_value(entity=entity,\n",
    "                                    krpset_name=\"KRPset_KDS 14 20 54_4.3.5 (5)\",\n",
    "                                    en_name=\"Minimum edge distance from anchor shaft center to concrete end\")\n",
    "            fIcac = self._get_p_value(entity=entity,\n",
    "                                    krpset_name=\"KRPset_KDS 14 20 54_4.3.5 (5)\",\n",
    "                                    en_name=\"risk podium distance\")\n",
    "            fOpscpNa = self.runit['05'].modification_factors_for_bonded_anchors_used_in_uncracked_concrete(0, fIcamin, fIcac)\n",
    "\n",
    "            # KDS142054_040305_01\n",
    "            fINa = self._get_p_value(entity=entity,\n",
    "                                     krpset_name=\"KRPset_KDS 14 20 54_4.3.5 (1)\",\n",
    "                                     en_name=\"Nominal bond strength of a single bonded anchor\")\n",
    "            fINag = self._get_p_value(entity=entity,\n",
    "                                      krpset_name=\"KRPset_KDS 14 20 54_4.3.5 (1)\",\n",
    "                                      en_name=\"Nominal bond strength of adhesive anchor group\")\n",
    "            fIANa = self._get_p_value(entity=entity,\n",
    "                                      krpset_name=\"KRPset_KDS 14 20 54_4.3.5 (1)\",\n",
    "                                      en_name=\"Projected influence area of anchor group\")\n",
    "            fIANao = self._get_p_value(entity=entity,\n",
    "                                       krpset_name=\"KRPset_KDS 14 20 54_4.3.5 (1)\",\n",
    "                                       en_name=\"Projected influence area of a single anchor\")\n",
    "            fIpsedNa = fOpsedNa # KDS142054_040305_04 실행 결과\n",
    "            fIpscpNa = fOpscpNa # KDS142054_040305_05 실행 결과\n",
    "            fINba = self._get_p_value(entity=entity,\n",
    "                                    krpset_name=\"KRPset_KDS 14 20 54_4.3.5 (1)\",\n",
    "                                    en_name=\"Basic bond strength of a single bonded anchor in tension\")\n",
    "            fIpsecNa = fOpsecNa # KDS142054_040305_03 실행 결과\n",
    "            fIn = self._get_p_value(entity=entity,\n",
    "                                krpset_name=\"KRPset_KDS 14 20 54_4.3.5 (1)\",\n",
    "                                en_name=\"Number of Attachable Anchors\")\n",
    "            fIcNa = self._get_p_value(entity=entity,\n",
    "                                    krpset_name=\"KRPset_KDS 14 20 54_4.3.5 (1)\",\n",
    "                                    en_name=\"The distance from the center of the anchor to the edge of the projected influence area required to develop the maximum bond strength\")\n",
    "            fIda = self._get_p_value(entity=entity,\n",
    "                                    krpset_name=\"KRPset_KDS 14 20 54_4.3.5 (1)\",\n",
    "                                    en_name=\"The outer diameter of an anchor, or the shaft diameter of a head stud, head bolt, or claw bolt\")\n",
    "            fItauncr = self._get_p_value(entity=entity,\n",
    "                                        krpset_name=\"KRPset_KDS 14 20 54_4.3.5 (1)\",\n",
    "                                        en_name=\"Characteristics Adhesion strength of adhesive anchors used in uncracked concrete\")\n",
    "            fIuserdefined = 1\n",
    "            result = self.runit['01'].nominal_bond_strength_of_a_single_bonded_anchor(fINa,fINag,fIANa,fIANao,fIpsedNa,fIpscpNa,fINba,fIpsecNa,fIn,fIcNa,fIda,fItauncr,fIuserdefined)\n",
    "\n",
    "            print(result)\n",
    "            print(\"process end.\")\n",
    "        except:\n",
    "            print(\"Fail\")"
   ]
  },
  {
   "cell_type": "code",
   "execution_count": 159,
   "metadata": {},
   "outputs": [],
   "source": [
    "ruleifc = RuleIFC_KDS142054_01(\"/Users/jaewooklee/Documents/Github/tomok/tomok/ED_extension_usingToolkit_v2.ifc\")"
   ]
  },
  {
   "cell_type": "code",
   "execution_count": 184,
   "metadata": {},
   "outputs": [],
   "source": [
    "entity = ruleifc.retrieve_entities(\"3s45s2y_vBWuTHL$ihTpyq\")[0]"
   ]
  },
  {
   "cell_type": "code",
   "execution_count": 185,
   "metadata": {},
   "outputs": [
    {
     "name": "stdout",
     "output_type": "stream",
     "text": [
      "-\n",
      "-\n"
     ]
    }
   ],
   "source": [
    "print(entity[\"KRPset_KDS 14 20 54_4.3.5 (1)\"][\"The distance from the center of the anchor to the edge of the projected influence area required to develop the maximum bond strength\"])\n",
    "print(ruleifc._get_p_value(entity, \"KRPset_KDS 14 20 54_4.3.5 (1)\", 'The distance from the center of the anchor to the edge of the projected influence area required to develop the maximum bond strength'))"
   ]
  },
  {
   "cell_type": "code",
   "execution_count": 193,
   "metadata": {},
   "outputs": [
    {
     "name": "stdout",
     "output_type": "stream",
     "text": [
      "Pass\n",
      "process end.\n"
     ]
    }
   ],
   "source": [
    "entity = ruleifc.reader.get_products('IFCBearing')[109]\n",
    "ruleifc.process(entity)"
   ]
  }
 ],
 "metadata": {
  "kernelspec": {
   "display_name": "Python 3",
   "language": "python",
   "name": "python3"
  },
  "language_info": {
   "codemirror_mode": {
    "name": "ipython",
    "version": 3
   },
   "file_extension": ".py",
   "mimetype": "text/x-python",
   "name": "python",
   "nbconvert_exporter": "python",
   "pygments_lexer": "ipython3",
   "version": "3.9.16"
  },
  "orig_nbformat": 4
 },
 "nbformat": 4,
 "nbformat_minor": 2
}
