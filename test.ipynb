{
 "cells": [
  {
   "attachments": {},
   "cell_type": "markdown",
   "metadata": {},
   "source": [
    "# Rule Unit 작성 예시\n",
    "\n",
    "본 문서는 1차년도 6월에 개발된 RuleUnit 클래스를 활용하여 룰을 작성하고 실행하는 과정을 설명합니다.\n",
    "- 난이도: 매우 낮음\n",
    "- 학습 시간: 10분"
   ]
  },
  {
   "attachments": {},
   "cell_type": "markdown",
   "metadata": {},
   "source": [
    "⚠︎ 주의사항: 코드를 변경하며 실행하고 싶으신 분들은, 사본을 생성한 후 작업해주십시오."
   ]
  },
  {
   "attachments": {},
   "cell_type": "markdown",
   "metadata": {},
   "source": [
    "## 룰 작성하기\n",
    "이 부분에서는 기존의 IFC에 대한 검사를 목적으로 개발된 IFCRule 및 RuleController를 사용하지 않고, 새로이 개발한 RuleUnit 클래스를 활용하여 룰을 작성하는 방법을 다룹니다.<br><br>\n",
    "본 예시에서 사용하는 기준은 KDS 24 14 21 4.6.5.1(5)을 바탕으로 작성되었습니다."
   ]
  },
  {
   "cell_type": "code",
   "execution_count": 1,
   "metadata": {},
   "outputs": [],
   "source": [
    "import tomok "
   ]
  },
  {
   "attachments": {},
   "cell_type": "markdown",
   "metadata": {},
   "source": [
    "먼저, Rule 작성에 필요한 클래스 및 함수를 불러오기 위하여, Github를 통해 Tomok이라는 Repository를 Clone합니다."
   ]
  },
  {
   "cell_type": "code",
   "execution_count": null,
   "metadata": {},
   "outputs": [],
   "source": [
    "!git clone https://github.com/KU-HIAI/tomok.git"
   ]
  },
  {
   "attachments": {},
   "cell_type": "markdown",
   "metadata": {},
   "source": [
    "Repository를 Clone하였다면, 현재 작업 경로를 tomok의 파일이 있는 위치로 이동합니다."
   ]
  },
  {
   "cell_type": "code",
   "execution_count": null,
   "metadata": {},
   "outputs": [],
   "source": [
    "cd tomok"
   ]
  },
  {
   "cell_type": "code",
   "execution_count": null,
   "metadata": {},
   "outputs": [],
   "source": [
    "priority = 1\n",
    "    author = 'Jaewook Lee'\n",
    "    ref_code = 'KDS 24 14 21 4.6.5.1 (5)'\n",
    "    ref_date = '2023-06-28'\n",
    "    title = '바닥판 최소두께'\n",
    "    description = \"\"\"\n",
    "    콘크리트교 설계기준(한계상태설계법)\n",
    "    4. 설계\n",
    "    4.6 부재 상세\n",
    "    4.6.5 교량의 콘크리트 바닥슬래브\n",
    "    4.6.5.1 일반 사항\n",
    "    (5)\n",
    "    \"\"\"\n",
    "    content = \"\"\"\n",
    "    #### 4.6.5.1 일반 사항\n",
    "(5) 특별히 요구되지 않는 한, 콘크리트 바닥판은 홈 또는 마모 방지 층의 두께를 뺀 판 최소 두께는 220mm 보다 작아서는 안 된다. 프리스트레스트 콘크리트 바닥판의 최소두께는 200mm 이상이어야 한다. 바닥판의 최소 피복 두께는 4.4의 규정을 따라야 한다.\n",
    "    \"\"\"\n",
    "    flowchart = \"\"\"\n",
    "    flowchart TD\n",
    "    %% Nodes\n",
    "    A[\"ProfileSectionSlabThickness(SLATHI)\"]\n",
    "    B[\"ReviewValueSlabMinThickness(SLAMINTHI)\"]\n",
    "    C{\"SLATHI > SLAMINTHI\"}\n",
    "    D[True]\n",
    "    E[False]\n",
    "\n",
    "    %% Edges\n",
    "    A --> C\n",
    "    B --> C\n",
    "    C --True--> D\n",
    "    C --False--> E\n",
    "    \"\"\""
   ]
  },
  {
   "cell_type": "code",
   "execution_count": 12,
   "metadata": {},
   "outputs": [],
   "source": [
    "# python\n",
    "import math\n",
    "from typing import List\n",
    "\n",
    "\n",
    "class KDS_24_14_21_4_6_5_1_5(tomok.RuleUnit):\n",
    "    priority = 1\n",
    "    author = 'Jaewook Lee'\n",
    "    ref_code = 'KDS 24 14 21 4.6.5.1 (5)'\n",
    "    ref_date = '2023-06-28'\n",
    "    title = '바닥판 최소두께'\n",
    "    description = \"\"\"\n",
    "    콘크리트교 설계기준(한계상태설계법)\n",
    "    4. 설계\n",
    "    4.6 부재 상세\n",
    "    4.6.5 교량의 콘크리트 바닥슬래브\n",
    "    4.6.5.1 일반 사항\n",
    "    (5)\n",
    "    \"\"\"\n",
    "    content = \"\"\"\n",
    "    #### 4.6.5.1 일반 사항\n",
    "(5) 특별히 요구되지 않는 한, 콘크리트 바닥판은 홈 또는 마모 방지 층의 두께를 뺀 판 최소 두께는 220mm 보다 작아서는 안 된다. 프리스트레스트 콘크리트 바닥판의 최소두께는 200mm 이상이어야 한다. 바닥판의 최소 피복 두께는 4.4의 규정을 따라야 한다.\n",
    "    \"\"\"\n",
    "    flowchart = \"\"\"\n",
    "    flowchart TD\n",
    "    %% Nodes\n",
    "    A[\"ProfileSectionSlabThickness(SLATHI)\"]\n",
    "    B[\"ReviewValueSlabMinThickness(SLAMINTHI)\"]\n",
    "    C{\"SLATHI > SLAMINTHI\"}\n",
    "    D[True]\n",
    "    E[False]\n",
    "\n",
    "    %% Edges\n",
    "    A --> C\n",
    "    B --> C\n",
    "    C --True--> D\n",
    "    C --False--> E\n",
    "    \"\"\"\n",
    "    \n",
    "    @tomok.rule_method\n",
    "    def slab_min_thickness(SLATHI, SLAMINTHI) -> bool:\n",
    "        \"\"\"홈 또는 마모 방지 층의 두께를 뺀 콘크리트 바닥판의 두께가 최소 두께를 만족하는 지의 여부\n",
    "        \n",
    "        Args:\n",
    "            SLATHI (int): 교량의 콘크리트 바닥판의 홈 또는 마모 방지 층의 두께를 뺀 판의 두께\n",
    "            SLAMINTHI (int): 교량의 콘크리트 바닥판의 홈 또는 마모 방지 층의 두께를 뺀 판의 최소 두께\n",
    "\n",
    "        Returns:\n",
    "            bool: 콘크리트교 설계기준(한계상태설계법) 4.6.5.1 일반 사항의 항목 (5)의 통과 여부\n",
    "        \"\"\"\n",
    "        \n",
    "        if SLATHI > SLAMINTHI:\n",
    "            return True\n",
    "        else:\n",
    "            return False"
   ]
  },
  {
   "cell_type": "code",
   "execution_count": 13,
   "metadata": {},
   "outputs": [],
   "source": [
    "tempRule = KDS_24_14_21_4_6_5_1_5()"
   ]
  },
  {
   "cell_type": "code",
   "execution_count": 14,
   "metadata": {},
   "outputs": [],
   "source": [
    "SlabThickness = 241\n",
    "SlabMinThickness = 220"
   ]
  },
  {
   "cell_type": "code",
   "execution_count": 15,
   "metadata": {},
   "outputs": [
    {
     "name": "stdout",
     "output_type": "stream",
     "text": [
      "RuleUnit Review Result: True\n"
     ]
    }
   ],
   "source": [
    "Rule_Review_Result = tempRule.slab_min_thickness(SlabThickness, SlabMinThickness)\n",
    "\n",
    "print(\"RuleUnit Review Result: {}\".format(Rule_Review_Result))"
   ]
  },
  {
   "cell_type": "code",
   "execution_count": 16,
   "metadata": {},
   "outputs": [
    {
     "data": {
      "text/markdown": [
       "\n",
       "    #### 4.6.5.1 일반 사항\n",
       "(5) 특별히 요구되지 않는 한, 콘크리트 바닥판은 홈 또는 마모 방지 층의 두께를 뺀 판 최소 두께는 220mm 보다 작아서는 안 된다. 프리스트레스트 콘크리트 바닥판의 최소두께는 200mm 이상이어야 한다. 바닥판의 최소 피복 두께는 4.4의 규정을 따라야 한다.\n",
       "    "
      ],
      "text/plain": [
       "<IPython.core.display.Markdown object>"
      ]
     },
     "metadata": {},
     "output_type": "display_data"
    }
   ],
   "source": [
    "tempRule.render_markdown()"
   ]
  }
 ],
 "metadata": {
  "kernelspec": {
   "display_name": "Python 3",
   "language": "python",
   "name": "python3"
  },
  "language_info": {
   "codemirror_mode": {
    "name": "ipython",
    "version": 3
   },
   "file_extension": ".py",
   "mimetype": "text/x-python",
   "name": "python",
   "nbconvert_exporter": "python",
   "pygments_lexer": "ipython3",
   "version": "3.9.16"
  },
  "orig_nbformat": 4
 },
 "nbformat": 4,
 "nbformat_minor": 2
}
