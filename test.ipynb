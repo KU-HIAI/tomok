{
 "cells": [
  {
   "cell_type": "code",
   "execution_count": 1,
   "metadata": {},
   "outputs": [],
   "source": [
    "from tomok import IFCReader\n",
    "from tomok import RuleUnitController"
   ]
  },
  {
   "cell_type": "code",
   "execution_count": 2,
   "metadata": {},
   "outputs": [],
   "source": [
    "reader = IFCReader(ifc_filepath=\"/mnt/raid6/jaewook133/tomok/acc_server2/uploads/gAAAAABnRUhUhGYAPP9vbIqUPaQSIsf5OcTUKARvnfeyecZN9fcuVZBke-t1bm0GvcJrGzBXpWc_JQquwwuSxJG8jTzPBpt4lydn78pfziXox8CU5vAnwr82w9SQWaIvTmcnFPATrI8N04n7bCgTW6FuH-2JLO_3XG28YHxUDl5cOQetMrDMV64=\")"
   ]
  },
  {
   "cell_type": "code",
   "execution_count": 3,
   "metadata": {},
   "outputs": [
    {
     "name": "stdout",
     "output_type": "stream",
     "text": [
      "None\n",
      "레벨:EXTREMO INICIAL 8 MM\n",
      "NOTDEFINED\n",
      "DOOR\n",
      "HALF_TURN_STAIR\n",
      "STRAIGHT\n",
      "LANDING\n",
      "STRINGER\n",
      "OPENING\n",
      "WINDOW\n",
      "CURTAIN_PANEL\n",
      "MULLION\n",
      "FLOOR\n",
      "STRAIGHT_RUN_STAIR\n",
      "M_URINARIO-MURO-3D:M_URINARIO-MURO-3D\n",
      "ROOF\n",
      "CEILING\n",
      "COLUMN\n",
      "BEAM\n",
      "BASESLAB\n"
     ]
    }
   ],
   "source": [
    "for key in reader.subtype_product_cache.keys():\n",
    "    print(key)"
   ]
  },
  {
   "cell_type": "code",
   "execution_count": 4,
   "metadata": {},
   "outputs": [
    {
     "data": {
      "text/plain": [
       "[#58189=IfcSlab('2f$SEp0bT4SfuPGVu0X6np',#18,'바닥:Hormigón 160 mm con losacero 50 mm:371309',$,'바닥:Hormigón 160 mm con losacero 50 mm',#58171,#58188,'371309',.FLOOR.),\n",
       " #60671=IfcSlab('3fYD0Vq9XAsewjKrFiZwIE',#18,'바닥:exteriores:477652',$,'바닥:exteriores',#60653,#60670,'477652',.FLOOR.),\n",
       " #60705=IfcSlab('3fYD0Vq9XAsewjKrFiZwCM',#18,'바닥:exteriores:478796',$,'바닥:exteriores',#60690,#60704,'478796',.FLOOR.),\n",
       " #60729=IfcSlab('3fYD0Vq9XAsewjKrFiZxqZ',#18,'바닥:exteriores:479353',$,'바닥:exteriores',#60714,#60728,'479353',.FLOOR.),\n",
       " #60753=IfcSlab('3fYD0Vq9XAsewjKrFiZxzs',#18,'바닥:exteriores:479788',$,'바닥:exteriores',#60738,#60752,'479788',.FLOOR.),\n",
       " #60777=IfcSlab('3fYD0Vq9XAsewjKrFiZxxa',#18,'바닥:exteriores:480190',$,'바닥:exteriores',#60762,#60776,'480190',.FLOOR.),\n",
       " #60801=IfcSlab('3fYD0Vq9XAsewjKrFiZxWG',#18,'바닥:exteriores:480586',$,'바닥:exteriores',#60786,#60800,'480586',.FLOOR.),\n",
       " #60825=IfcSlab('3fYD0Vq9XAsewjKrFiZxkA',#18,'바닥:exteriores:480976',$,'바닥:exteriores',#60810,#60824,'480976',.FLOOR.),\n",
       " #60849=IfcSlab('3fYD0Vq9XAsewjKrFiZxKC',#18,'바닥:exteriores:481366',$,'바닥:exteriores',#60834,#60848,'481366',.FLOOR.),\n",
       " #60873=IfcSlab('3fYD0Vq9XAsewjKrFiZxI0',#18,'바닥:exteriores:481754',$,'바닥:exteriores',#60858,#60872,'481754',.FLOOR.),\n",
       " #62842=IfcSlab('3fYD0Vq9XAsewjKrFiZqls',#18,'바닥:Hormigón 160 mm con losacero 50 mm:501420',$,'바닥:Hormigón 160 mm con losacero 50 mm',#62827,#62841,'501420',.FLOOR.),\n",
       " #62866=IfcSlab('3fYD0Vq9XAsewjKrFiZqkg',#18,'바닥:Hormigón 160 mm con losacero 50 mm:501488',$,'바닥:Hormigón 160 mm con losacero 50 mm',#62851,#62865,'501488',.FLOOR.),\n",
       " #68325=IfcSlab('0C0VNvZozB$Beu8jvxEuyp',#18,'바닥:Hormigón 160 mm con losacero 50 mm:502985',$,'바닥:Hormigón 160 mm con losacero 50 mm',#68307,#68324,'502985',.FLOOR.),\n",
       " #68352=IfcSlab('0C0VNvZozB$Beu8jvxEvF0',#18,'바닥:Hormigón 160 mm con losacero 50 mm:503866',$,'바닥:Hormigón 160 mm con losacero 50 mm',#68334,#68351,'503866',.FLOOR.),\n",
       " #82400=IfcSlab('0hyGkQmDv8FQf1X6p9ji2B',#18,'바닥:Hormigón 160 mm con losacero 50 mm:522406',$,'바닥:Hormigón 160 mm con losacero 50 mm',#82382,#82399,'522406',.FLOOR.),\n",
       " #94146=IfcSlab('0hyGkQmDv8FQf1X6p9jiNl',#18,'바닥:Hormigón 160 mm con losacero 50 mm:523714',$,'바닥:Hormigón 160 mm con losacero 50 mm',#94128,#94145,'523714',.FLOOR.),\n",
       " #103012=IfcSlab('0hyGkQmDv8FQf1X6p9kJhm',#18,'바닥:Hormigón 160 mm con losacero 50 mm:525021',$,'바닥:Hormigón 160 mm con losacero 50 mm',#102994,#103011,'525021',.FLOOR.),\n",
       " #111542=IfcSlab('0hyGkQmDv8FQf1X6p9kJDR',#18,'바닥:Hormigón 160 mm con losacero 50 mm:527222',$,'바닥:Hormigón 160 mm con losacero 50 mm',#111524,#111541,'527222',.FLOOR.),\n",
       " #205538=IfcSlab('2wnrlX$If4$f2eqEBSzp6b',#18,'바닥:Hormigón 160 mm con losacero 50 mm:566179',$,'바닥:Hormigón 160 mm con losacero 50 mm',#205523,#205537,'566179',.FLOOR.),\n",
       " #205568=IfcSlab('2wnrlX$If4$f2eqEBSzp6_',#18,'바닥:pasto:566200',$,'바닥:pasto',#205547,#205567,'566200',.FLOOR.),\n",
       " #205918=IfcSlab('1jiqnX4vr39hreufhTxm_r',#18,'바닥:banqueta:570550',$,'바닥:banqueta',#205900,#205917,'570550',.FLOOR.)]"
      ]
     },
     "execution_count": 4,
     "metadata": {},
     "output_type": "execute_result"
    }
   ],
   "source": [
    "reader.subtype_product_cache['FLOOR']"
   ]
  },
  {
   "cell_type": "code",
   "execution_count": 5,
   "metadata": {},
   "outputs": [
    {
     "data": {
      "text/plain": [
       "#62866=IfcSlab('3fYD0Vq9XAsewjKrFiZqkg',#18,'바닥:Hormigón 160 mm con losacero 50 mm:501488',$,'바닥:Hormigón 160 mm con losacero 50 mm',#62851,#62865,'501488',.FLOOR.)"
      ]
     },
     "execution_count": 5,
     "metadata": {},
     "output_type": "execute_result"
    }
   ],
   "source": [
    "reader.get_products()\n",
    "e = reader.get_product_by_guid(guid=\"3fYD0Vq9XAsewjKrFiZqkg\")\n",
    "e"
   ]
  },
  {
   "cell_type": "code",
   "execution_count": 11,
   "metadata": {},
   "outputs": [
    {
     "data": {
      "text/plain": [
       "{'entity_instances': [\u001b[95m[62873/IfcRelDefinesByProperties/] \u001b[94m[pset: Pset_SlabCommon] \u001b[96m[mat: None] \u001b[92m[prof: None] \u001b[93m[rule:None]\u001b[0m,\n",
       "  \u001b[95m[300097/IfcRelDefinesByProperties/] \u001b[94m[pset: KRPset_KDS 14 20 22_4.11.3 (1)] \u001b[96m[mat: None] \u001b[92m[prof: None] \u001b[93m[rule:None]\u001b[0m,\n",
       "  \u001b[95m[300119/IfcRelDefinesByProperties/] \u001b[94m[pset: KRPset_KDS 14 20 22_4.11.3 (2)] \u001b[96m[mat: None] \u001b[92m[prof: None] \u001b[93m[rule:None]\u001b[0m,\n",
       "  \u001b[95m[300017/IfcRelDefinesByProperties/] \u001b[94m[pset: KRPset_KDS 14 20 22_4.11.1 (3)] \u001b[96m[mat: None] \u001b[92m[prof: None] \u001b[93m[rule:None]\u001b[0m,\n",
       "  \u001b[95m[286044/IfcRelAssociatesClassification/A10] \u001b[94m[pset: Uniformat] \u001b[96m[mat: Uniformat] \u001b[92m[prof: Uniformat] \u001b[93m[rule:None]\u001b[0m,\n",
       "  \u001b[95m[300083/IfcRelDefinesByProperties/] \u001b[94m[pset: KRPset_KDS 14 20 22_4.11.2 (5)] \u001b[96m[mat: None] \u001b[92m[prof: None] \u001b[93m[rule:None]\u001b[0m,\n",
       "  \u001b[95m[62871/IfcRelDefinesByProperties/] \u001b[94m[pset: Pset_EnvironmentalImpactIndicators] \u001b[96m[mat: None] \u001b[92m[prof: None] \u001b[93m[rule:None]\u001b[0m,\n",
       "  \u001b[95m[284496/IfcRelAssociatesMaterial/] \u001b[94m[pset: None] \u001b[96m[mat: None] \u001b[92m[prof: None] \u001b[93m[rule:None]\u001b[0m,\n",
       "  \u001b[95m[285159/IfcRelDefinesByType/] \u001b[94m[pset: None] \u001b[96m[mat: None] \u001b[92m[prof: None] \u001b[93m[rule:None]\u001b[0m,\n",
       "  \u001b[95m[284440/IfcRelContainedInSpatialStructure/] \u001b[94m[pset: None] \u001b[96m[mat: None] \u001b[92m[prof: None] \u001b[93m[rule:None]\u001b[0m,\n",
       "  \u001b[95m[300151/IfcRelDefinesByProperties/] \u001b[94m[pset: KRPset_KDS 14 20 22_4.1.1 (1)] \u001b[96m[mat: None] \u001b[92m[prof: None] \u001b[93m[rule:None]\u001b[0m,\n",
       "  \u001b[95m[300131/IfcRelDefinesByProperties/] \u001b[94m[pset: KRPset_KDS 14 20 10_4.2.3 (2) ③] \u001b[96m[mat: None] \u001b[92m[prof: None] \u001b[93m[rule:None]\u001b[0m,\n",
       "  \u001b[95m[300063/IfcRelDefinesByProperties/] \u001b[94m[pset: KRPset_KDS 14 20 22_4.11.2 (2)] \u001b[96m[mat: None] \u001b[92m[prof: None] \u001b[93m[rule:None]\u001b[0m,\n",
       "  \u001b[95m[62872/IfcRelDefinesByProperties/] \u001b[94m[pset: Pset_ReinforcementBarPitchOfSlab] \u001b[96m[mat: None] \u001b[92m[prof: None] \u001b[93m[rule:None]\u001b[0m],\n",
       " 'pset': {'Pset_SlabCommon': #62870=IfcPropertySet('2OCUDGEL$_GmsQYGf$mIhK',#18,'Pset_SlabCommon',$,(#155,#199,#58281,#58285)),\n",
       "  'KRPset_KDS 14 20 22_4.11.3 (1)': #300096=IfcPropertySet('',$,'KRPset_KDS 14 20 22_4.11.3 (1)',$,(#300085,#300087,#300089,#300091,#300093,#300095)),\n",
       "  'KRPset_KDS 14 20 22_4.11.3 (2)': #300118=IfcPropertySet('',$,'KRPset_KDS 14 20 22_4.11.3 (2)',$,(#300099,#300101,#300103,#300105,#300107,#300109,#300111,#300113,#300115,#300117)),\n",
       "  'KRPset_KDS 14 20 22_4.11.1 (3)': #300016=IfcPropertySet('',$,'KRPset_KDS 14 20 22_4.11.1 (3)',$,(#300001,#300003,#300005,#300007,#300009,#300011,#300013,#300015)),\n",
       "  'KRPset_KDS 14 20 22_4.11.2 (5)': #300082=IfcPropertySet('',$,'KRPset_KDS 14 20 22_4.11.2 (5)',$,(#300065,#300067,#300069,#300071,#300073,#300075,#300077,#300079,#300081)),\n",
       "  'Pset_EnvironmentalImpactIndicators': #62867=IfcPropertySet('0mKdMH$VGQ_SrgLixdf7u$',#18,'Pset_EnvironmentalImpactIndicators',$,(#58281)),\n",
       "  'KRPset_KDS 14 20 22_4.1.1 (1)': #300150=IfcPropertySet('',$,'KRPset_KDS 14 20 22_4.1.1 (1)',$,(#300133,#300135,#300137,#300139,#300141,#300143,#300145,#300147,#300149)),\n",
       "  'KRPset_KDS 14 20 10_4.2.3 (2) ③': #300130=IfcPropertySet('',$,'KRPset_KDS 14 20 10_4.2.3 (2) ③',$,(#300121,#300123,#300125,#300127,#300129)),\n",
       "  'KRPset_KDS 14 20 22_4.11.2 (2)': #300062=IfcPropertySet('',$,'KRPset_KDS 14 20 22_4.11.2 (2)',$,(#300019,#300021,#300023,#300025,#300027,#300029,#300031,#300033,#300035,#300037,#300039,#300041,#300043,#300045,#300047,#300049,#300051,#300053,#300055,#300057,#300059,#300061)),\n",
       "  'Pset_ReinforcementBarPitchOfSlab': #62869=IfcPropertySet('062obPWhdTRzja7c04gHFU',#18,'Pset_ReinforcementBarPitchOfSlab',$,(#62868))},\n",
       " 'material': {},\n",
       " 'profile': {},\n",
       " 'id2rel_class': {'A10': #58290=IfcClassificationReference('https://www.csiresources.org/standards/uniformat','A10','Uniformat',#105,'Foundations',$)},\n",
       " 'rule_decision': [],\n",
       " 'rule_indirect': [],\n",
       " 'identification': ['A10']}"
      ]
     },
     "execution_count": 11,
     "metadata": {},
     "output_type": "execute_result"
    }
   ],
   "source": [
    "e.tree"
   ]
  },
  {
   "cell_type": "code",
   "execution_count": 8,
   "metadata": {},
   "outputs": [
    {
     "data": {
      "text/plain": [
       "[]"
      ]
     },
     "execution_count": 8,
     "metadata": {},
     "output_type": "execute_result"
    }
   ],
   "source": [
    "ruleUnitController = RuleUnitController('ruleunits')\n",
    "ruleUnitController.ruleunits"
   ]
  },
  {
   "cell_type": "code",
   "execution_count": 6,
   "metadata": {},
   "outputs": [
    {
     "name": "stdout",
     "output_type": "stream",
     "text": [
      "{'kds': {'142054': {'040305_01': {'KDS142054_040305_01': <ruleunits.kds.142054.040305_01.KDS142054_040305_01 object at 0x7f1a46a27040>},\n",
      "                    '040305_03': {'KDS142054_040305_03': <ruleunits.kds.142054.040305_03.KDS142054_040305_03 object at 0x7f1699403a60>},\n",
      "                    '040305_04': {'KDS142054_040305_04': <ruleunits.kds.142054.040305_04.KDS142054_040305_04 object at 0x7f1699403c10>},\n",
      "                    '040305_05': {'KDS142054_040305_05': <ruleunits.kds.142054.040305_05.KDS142054_040305_05 object at 0x7f1a46a277f0>}}}}\n"
     ]
    }
   ],
   "source": [
    "import pprint\n",
    "pprint.pprint(ruleUnitController.ruleunits_dict)"
   ]
  },
  {
   "cell_type": "code",
   "execution_count": 7,
   "metadata": {},
   "outputs": [
    {
     "data": {
      "text/plain": [
       "<ruleunits.kds.142054.040305_01.KDS142054_040305_01 at 0x7f1a46a27040>"
      ]
     },
     "execution_count": 7,
     "metadata": {},
     "output_type": "execute_result"
    }
   ],
   "source": [
    "ruleUnitController['kds']['142054']['040305_01']['KDS142054_040305_01']"
   ]
  },
  {
   "cell_type": "code",
   "execution_count": 8,
   "metadata": {},
   "outputs": [],
   "source": [
    "from tomok import RuleIFC, IFCReader, Product, RuleUnitController\n",
    "\n",
    "\n",
    "class RuleIFC_KDS142054_01(RuleIFC):\n",
    "    # RuleIFC\n",
    "    def __init__(self,\n",
    "                 reader: IFCReader,\n",
    "                 rule_units: RuleUnitController):\n",
    "        self.reader = reader\n",
    "        self.runit = {\n",
    "            '01': rule_units['kds']['142054']['040305_01']['KDS142054_040305_01'],\n",
    "            '03': rule_units['kds']['142054']['040305_03']['KDS142054_040305_03'],\n",
    "            '04': rule_units['kds']['142054']['040305_04']['KDS142054_040305_04'],\n",
    "            '05': rule_units['kds']['142054']['040305_05']['KDS142054_040305_05']\n",
    "        }\n",
    "\n",
    "    def retrieve_entities(self,\n",
    "                          guid: str):\n",
    "        self.reader.get_products() # IFC 파일에서 부재 목록을 읽어옵니다.\n",
    "        try:\n",
    "            target_entity = [self.reader.get_product_by_guid(guid)] # guid를 기반으로 부재를 검색합니다.\n",
    "        except:\n",
    "            return []\n",
    "        return target_entity\n",
    "\n",
    "    def _get_p_value(self,\n",
    "                     entity: Product,\n",
    "                     krpset_name: str,\n",
    "                     en_name: str):\n",
    "        try:\n",
    "            return entity[krpset_name][en_name]\n",
    "        except:                \n",
    "            return -1\n",
    "        \n",
    "    def process(self,\n",
    "                entity: Product):\n",
    "        try:\n",
    "            # KDS142054_040305_03\n",
    "            # fOpsecNa = self._get_p_value(entity=entity,\n",
    "            #                             krpset_name=\"KRPset_KDS 14 20 54_4.3.5 (3)\",\n",
    "            #                             en_name=\"Correction factor for attached anchor groups in which eccentricity of tensile force acts\")\n",
    "            fIeprimN = self._get_p_value(entity=entity,\n",
    "                                        krpset_name=\"KRPset_KDS 14 20 54_4.3.5 (3)\",\n",
    "                                        en_name=\"The distance between the resultant force of the tensile force acting on the anchor group subjected to tensile load and the centroid of the anchor group\")\n",
    "            fIcNa = self._get_p_value(entity=entity,\n",
    "                                      krpset_name=\"KRPset_KDS 14 20 54_4.3.5 (3)\",\n",
    "                                      en_name=\"The distance from the center of the anchor to the edge of the projected influence area required to develop the maximum bond strength\")\n",
    "            fOpsecNa = self.runit['03'].correction_factor_for_attached_anchor_groups_with_eccentricity_of_tensile_force(0, fIeprimN, fIcNa)\n",
    "            # KDS142054_040305_04\n",
    "            # fOpsedNa = self._get_p_value(entity=entity,\n",
    "            #                             krpset_name=\"KRPset_KDS 14 20 54_4.3.5 (4)\",\n",
    "            #                             en_name=\"Correction factor for edge influence of single anchor anchor or group of anchor anchors\")\n",
    "            fIcamin = self._get_p_value(entity=entity,\n",
    "                                    krpset_name=\"KRPset_KDS 14 20 54_4.3.5 (4)\",\n",
    "                                    en_name=\"Minimum edge distance from anchor shaft center to concrete end\")\n",
    "            fIcNa = self._get_p_value(entity=entity,\n",
    "                                    krpset_name=\"KRPset_KDS 14 20 54_4.3.5 (4)\",\n",
    "                                    en_name=\"The distance from the center of the anchor to the edge of the projected influence area required to develop the maximum bond strength\")\n",
    "            fOpsedNa = self.runit['04'].correction_factor_for_edge_influence_of_single_or_group_of_anchor(0, fIcamin, fIcNa)\n",
    "            # KDS142054_040305_05\n",
    "            # fOpscpNa = self._get_p_value(entity=entity,\n",
    "            #                             krpset_name=\"KRPset_KDS 14 20 54_4.3.5 (5)\",\n",
    "            #                             en_name=\"Modification factors for bonded anchors used in uncracked concrete\")\n",
    "            fIcamin = self._get_p_value(entity=entity,\n",
    "                                    krpset_name=\"KRPset_KDS 14 20 54_4.3.5 (5)\",\n",
    "                                    en_name=\"Minimum edge distance from anchor shaft center to concrete end\")\n",
    "            fIcac = self._get_p_value(entity=entity,\n",
    "                                    krpset_name=\"KRPset_KDS 14 20 54_4.3.5 (5)\",\n",
    "                                    en_name=\"risk podium distance\")\n",
    "            fOpscpNa = self.runit['05'].modification_factors_for_bonded_anchors_used_in_uncracked_concrete(0, fIcamin, fIcac)\n",
    "\n",
    "            # KDS142054_040305_01\n",
    "            fINa = self._get_p_value(entity=entity,\n",
    "                                     krpset_name=\"KRPset_KDS 14 20 54_4.3.5 (1)\",\n",
    "                                     en_name=\"Nominal bond strength of a single bonded anchor\")\n",
    "            fINag = self._get_p_value(entity=entity,\n",
    "                                      krpset_name=\"KRPset_KDS 14 20 54_4.3.5 (1)\",\n",
    "                                      en_name=\"Nominal bond strength of adhesive anchor group\")\n",
    "            fIANa = self._get_p_value(entity=entity,\n",
    "                                      krpset_name=\"KRPset_KDS 14 20 54_4.3.5 (1)\",\n",
    "                                      en_name=\"Projected influence area of anchor group\")\n",
    "            fIANao = self._get_p_value(entity=entity,\n",
    "                                       krpset_name=\"KRPset_KDS 14 20 54_4.3.5 (1)\",\n",
    "                                       en_name=\"Projected influence area of a single anchor\")\n",
    "            fIpsedNa = fOpsedNa # KDS142054_040305_04 실행 결과\n",
    "            fIpscpNa = fOpscpNa # KDS142054_040305_05 실행 결과\n",
    "            fINba = self._get_p_value(entity=entity,\n",
    "                                    krpset_name=\"KRPset_KDS 14 20 54_4.3.5 (1)\",\n",
    "                                    en_name=\"Basic bond strength of a single bonded anchor in tension\")\n",
    "            fIpsecNa = fOpsecNa # KDS142054_040305_03 실행 결과\n",
    "            fIn = self._get_p_value(entity=entity,\n",
    "                                krpset_name=\"KRPset_KDS 14 20 54_4.3.5 (1)\",\n",
    "                                en_name=\"Number of Attachable Anchors\")\n",
    "            fIcNa = self._get_p_value(entity=entity,\n",
    "                                    krpset_name=\"KRPset_KDS 14 20 54_4.3.5 (1)\",\n",
    "                                    en_name=\"The distance from the center of the anchor to the edge of the projected influence area required to develop the maximum bond strength\")\n",
    "            fIda = self._get_p_value(entity=entity,\n",
    "                                    krpset_name=\"KRPset_KDS 14 20 54_4.3.5 (1)\",\n",
    "                                    en_name=\"The outer diameter of an anchor, or the shaft diameter of a head stud, head bolt, or claw bolt\")\n",
    "            fItauncr = self._get_p_value(entity=entity,\n",
    "                                        krpset_name=\"KRPset_KDS 14 20 54_4.3.5 (1)\",\n",
    "                                        en_name=\"Characteristics Adhesion strength of adhesive anchors used in uncracked concrete\")\n",
    "            fIuserdefined = 1\n",
    "            result = self.runit['01'].nominal_bond_strength_of_a_single_bonded_anchor(fINa,fINag,fIANa,fIANao,fIpsedNa,fIpscpNa,fINba,fIpsecNa,fIn,fIcNa,fIda,fItauncr,fIuserdefined)\n",
    "\n",
    "            print(result)\n",
    "            print(\"process end.\")\n",
    "        except:\n",
    "            print(\"Fail\")"
   ]
  },
  {
   "cell_type": "code",
   "execution_count": 9,
   "metadata": {},
   "outputs": [],
   "source": [
    "reader = IFCReader(ifc_filepath=\"ED_extension_usingToolkit_v2.ifc\")\n",
    "rule_units = RuleUnitController('ruleunits')\n",
    "ruleifc = RuleIFC_KDS142054_01(reader=reader, rule_units=rule_units)"
   ]
  },
  {
   "cell_type": "code",
   "execution_count": 10,
   "metadata": {},
   "outputs": [],
   "source": [
    "entity = ruleifc.retrieve_entities(\"3s45s2y_vBWuTHL$ihTpyq\")[0]"
   ]
  },
  {
   "cell_type": "code",
   "execution_count": 11,
   "metadata": {},
   "outputs": [
    {
     "name": "stdout",
     "output_type": "stream",
     "text": [
      "-\n",
      "-\n"
     ]
    }
   ],
   "source": [
    "print(entity[\"KRPset_KDS 14 20 54_4.3.5 (1)\"][\"The distance from the center of the anchor to the edge of the projected influence area required to develop the maximum bond strength\"])\n",
    "print(ruleifc._get_p_value(entity, \"KRPset_KDS 14 20 54_4.3.5 (1)\", 'The distance from the center of the anchor to the edge of the projected influence area required to develop the maximum bond strength'))"
   ]
  },
  {
   "cell_type": "code",
   "execution_count": 12,
   "metadata": {},
   "outputs": [
    {
     "name": "stdout",
     "output_type": "stream",
     "text": [
      "Pass\n",
      "process end.\n"
     ]
    }
   ],
   "source": [
    "entity = ruleifc.reader.get_products('IFCBearing')[109]\n",
    "ruleifc.process(entity)"
   ]
  },
  {
   "cell_type": "code",
   "execution_count": 19,
   "metadata": {},
   "outputs": [],
   "source": [
    "def convert_code_format(code):\n",
    "        replacements = {\n",
    "            \"①\": \"_01\",\n",
    "            \"②\": \"_02\",\n",
    "            \"③\": \"_03\",\n",
    "            \"④\": \"_04\",\n",
    "            \"⑤\": \"_05\",\n",
    "            \"⑥\": \"_06\",\n",
    "            \"⑦\": \"_07\",\n",
    "            \"⑧\": \"_08\",\n",
    "            \"⑨\": \"_09\",\n",
    "        }\n",
    "        parts = code.split(\"_\")\n",
    "        prefix = parts[0].replace(\" \", \"\")\n",
    "        parts[1] = parts[1].split(\".\")\n",
    "        middle = \"\"\n",
    "        for x in parts[1]:\n",
    "            if len(x) > 1:\n",
    "               middle += x\n",
    "            else:\n",
    "                middle += \"0\" + x \n",
    "        # parts[1] = parts[1].replace(\".\", \"\")\n",
    "        # middle = \"\".join([\"0\" + char for char in parts[1]])\n",
    "        suffix = \"0\" + parts[2][1]\n",
    "        if any(key in code for key in replacements):\n",
    "            suffix += replacements[code[-1]]\n",
    "\n",
    "        return f\"{prefix}_{middle}_{suffix}\""
   ]
  },
  {
   "cell_type": "code",
   "execution_count": null,
   "metadata": {},
   "outputs": [
    {
     "data": {
      "text/plain": [
       "'KDS142022_040103_02'"
      ]
     },
     "execution_count": 21,
     "metadata": {},
     "output_type": "execute_result"
    }
   ],
   "source": [
    "convert_code_format(\"KDS 14 20 22_4.1.3_(2)\")"
   ]
  }
 ],
 "metadata": {
  "kernelspec": {
   "display_name": "tomok_api",
   "language": "python",
   "name": "python3"
  },
  "language_info": {
   "codemirror_mode": {
    "name": "ipython",
    "version": 3
   },
   "file_extension": ".py",
   "mimetype": "text/x-python",
   "name": "python",
   "nbconvert_exporter": "python",
   "pygments_lexer": "ipython3",
   "version": "3.10.13"
  },
  "orig_nbformat": 4
 },
 "nbformat": 4,
 "nbformat_minor": 2
}
