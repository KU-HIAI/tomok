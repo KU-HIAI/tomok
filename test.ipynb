{
 "cells": [
  {
   "cell_type": "code",
   "execution_count": 1,
   "metadata": {},
   "outputs": [],
   "source": [
    "from tomok.ifc import IFCReader"
   ]
  },
  {
   "cell_type": "code",
   "execution_count": 2,
   "metadata": {},
   "outputs": [
    {
     "name": "stdout",
     "output_type": "stream",
     "text": [
      "{'entity_instances': [\u001b[95m[95/IfcBuilding/] \u001b[94m[pset: ] \u001b[96m[mat: ] \u001b[92m[prof: ] \u001b[93m[rule:None]\u001b[0m], 'IfcBuilding': {'entity_instances': [\u001b[95m[4382780/IfcRelAggregates/] \u001b[94m[pset: None] \u001b[96m[mat: None] \u001b[92m[prof: None] \u001b[93m[rule:None]\u001b[0m, \u001b[95m[4382792/IfcRelDefinesByProperties/] \u001b[94m[pset: Pset_BuildingSystemCommon] \u001b[96m[mat: None] \u001b[92m[prof: None] \u001b[93m[rule:None]\u001b[0m], 'pset': {'Pset_BuildingSystemCommon': #4382787=IfcPropertySet('00Np4gWQGC_NmpLzsxSTna',#18,'Pset_BuildingSystemCommon',$,(#125))}, 'material': {}, 'profile': {}, 'id2rel_class': {}, 'rule_decision': [], 'rule_indirect': []}, 'pset': {}, 'material': {}, 'profile': {}, 'id2rel_class': {}, 'rule_decision': [], 'rule_indirect': []}\n",
      "currently IfcCountMeasure (5, <class 'int'>) type is not handled in IFCReader\n",
      "[(#95=IfcBuilding('0UiHtyh21CPeXMlHYS8V49',#18,'',$,$,#93,$,'',.ELEMENT.,$,$,#94), []), (#4382780=IfcRelAggregates('0$GOtzgqo4MWyllY8ehasb',#18,$,$,#124,(#95)), [#95=IfcBuilding('0UiHtyh21CPeXMlHYS8V49',#18,'',$,$,#93,$,'',.ELEMENT.,$,$,#94)]), (#4382792=IfcRelDefinesByProperties('2yXCezh2iqr8ZufWQRBdXQ',#18,$,$,(#95),#4382787), [#95=IfcBuilding('0UiHtyh21CPeXMlHYS8V49',#18,'',$,$,#93,$,'',.ELEMENT.,$,$,#94)]), (#4382789=IfcRelDefinesByProperties('29UoP1MgSW4Js9OSUzA8HA',#18,$,$,(#95),#4382784), [#95=IfcBuilding('0UiHtyh21CPeXMlHYS8V49',#18,'',$,$,#93,$,'',.ELEMENT.,$,$,#94)]), (#4382790=IfcRelDefinesByProperties('3Gmz3LRTUcU4zMbPu1SPMK',#18,$,$,(#95),#4382785), [#95=IfcBuilding('0UiHtyh21CPeXMlHYS8V49',#18,'',$,$,#93,$,'',.ELEMENT.,$,$,#94)]), (#4382793=IfcRelDefinesByProperties('0Ygv8AlTns4Edbe1oE_UZb',#18,$,$,(#95),#4382788), [#95=IfcBuilding('0UiHtyh21CPeXMlHYS8V49',#18,'',$,$,#93,$,'',.ELEMENT.,$,$,#94)]), (#4382791=IfcRelDefinesByProperties('2bw5_lgfHSCrYeGdojRyFQ',#18,$,$,(#95),#4382786), [#95=IfcBuilding('0UiHtyh21CPeXMlHYS8V49',#18,'',$,$,#93,$,'',.ELEMENT.,$,$,#94)]), (#4382781=IfcRelAggregates('0bEVwXRmbBleAvzFSJirAn',#18,$,$,#95,(#99,#103,#107,#111,#114,#117,#121)), [#95=IfcBuilding('0UiHtyh21CPeXMlHYS8V49',#18,'',$,$,#93,$,'',.ELEMENT.,$,$,#94)])]\n"
     ]
    },
    {
     "ename": "Exception",
     "evalue": "",
     "output_type": "error",
     "traceback": [
      "\u001b[0;31m---------------------------------------------------------------------------\u001b[0m",
      "\u001b[0;31mTypeError\u001b[0m                                 Traceback (most recent call last)",
      "File \u001b[0;32m~/Documents/Github/tomok/tomok/tomok/ifc/parse.py:71\u001b[0m, in \u001b[0;36mget_tree\u001b[0;34m(ifc, from_entity, filter_is_a)\u001b[0m\n\u001b[1;32m     70\u001b[0m \u001b[39mfor\u001b[39;00m entity, parents \u001b[39min\u001b[39;00m iter_inverse(ifc\u001b[39m=\u001b[39mifc, from_entity\u001b[39m=\u001b[39mfrom_entity, filter_is_a\u001b[39m=\u001b[39mfilter_is_a):\n\u001b[0;32m---> 71\u001b[0m     parsed_entity \u001b[39m=\u001b[39m ParsedEntity(ifc, entity)\n\u001b[1;32m     72\u001b[0m     cur_node \u001b[39m=\u001b[39m tree\n",
      "File \u001b[0;32m~/Documents/Github/tomok/tomok/tomok/ifc/parsed_entity.py:14\u001b[0m, in \u001b[0;36mParsedEntity.__init__\u001b[0;34m(self, ifc, entity)\u001b[0m\n\u001b[1;32m     13\u001b[0m \u001b[39mself\u001b[39m\u001b[39m.\u001b[39mentity \u001b[39m=\u001b[39m entity\n\u001b[0;32m---> 14\u001b[0m \u001b[39mself\u001b[39m\u001b[39m.\u001b[39mpset \u001b[39m=\u001b[39m \u001b[39mself\u001b[39;49m\u001b[39m.\u001b[39;49m_gather_psets()\n\u001b[1;32m     15\u001b[0m \u001b[39mself\u001b[39m\u001b[39m.\u001b[39mmaterial \u001b[39m=\u001b[39m \u001b[39mself\u001b[39m\u001b[39m.\u001b[39m_gather_materials()\n",
      "File \u001b[0;32m~/Documents/Github/tomok/tomok/tomok/ifc/parsed_entity.py:63\u001b[0m, in \u001b[0;36mParsedEntity._gather_psets\u001b[0;34m(self)\u001b[0m\n\u001b[1;32m     62\u001b[0m     \u001b[39mreturn\u001b[39;00m \u001b[39mNone\u001b[39;00m\n\u001b[0;32m---> 63\u001b[0m \u001b[39mreturn\u001b[39;00m PropertySet(\u001b[39mself\u001b[39;49m\u001b[39m.\u001b[39;49mifc, pset)\n",
      "File \u001b[0;32m~/Documents/Github/tomok/tomok/tomok/ifc/property_set.py:32\u001b[0m, in \u001b[0;36mPropertySet.__init__\u001b[0;34m(self, ifc, entity, access)\u001b[0m\n\u001b[1;32m     29\u001b[0m \u001b[39mself\u001b[39m\u001b[39m.\u001b[39m_protected_keys \u001b[39m=\u001b[39m [k \u001b[39mfor\u001b[39;00m k \u001b[39min\u001b[39;00m \u001b[39mvars\u001b[39m(\n\u001b[1;32m     30\u001b[0m     \u001b[39mself\u001b[39m)\u001b[39m.\u001b[39mkeys()] \u001b[39m+\u001b[39m [k \u001b[39mfor\u001b[39;00m k \u001b[39min\u001b[39;00m \u001b[39mvars\u001b[39m(\u001b[39mtype\u001b[39m(\u001b[39mself\u001b[39m))\u001b[39m.\u001b[39mkeys()]\n\u001b[0;32m---> 32\u001b[0m \u001b[39mself\u001b[39;49m\u001b[39m.\u001b[39;49mparse()\n\u001b[1;32m     34\u001b[0m \u001b[39mself\u001b[39m\u001b[39m.\u001b[39m_state \u001b[39m=\u001b[39m \u001b[39mself\u001b[39m\u001b[39m.\u001b[39m_STAGE\u001b[39m.\u001b[39mindex(\u001b[39m'\u001b[39m\u001b[39mwritable\u001b[39m\u001b[39m'\u001b[39m)\n",
      "File \u001b[0;32m~/Documents/Github/tomok/tomok/tomok/ifc/property_set.py:95\u001b[0m, in \u001b[0;36mPropertySet.parse\u001b[0;34m(self)\u001b[0m\n\u001b[1;32m     94\u001b[0m \u001b[39mself\u001b[39m\u001b[39m.\u001b[39m_parse_property_names()\n\u001b[0;32m---> 95\u001b[0m \u001b[39mself\u001b[39;49m\u001b[39m.\u001b[39;49m_parse_property_values()\n",
      "File \u001b[0;32m~/Documents/Github/tomok/tomok/tomok/ifc/property_set.py:82\u001b[0m, in \u001b[0;36mPropertySet._parse_property_values\u001b[0;34m(self)\u001b[0m\n\u001b[1;32m     81\u001b[0m     wrapped_value \u001b[39m=\u001b[39m prop\u001b[39m.\u001b[39mNominalValue\u001b[39m.\u001b[39mwrappedValue\n\u001b[0;32m---> 82\u001b[0m     value \u001b[39m=\u001b[39m ifc_single_value_to_python(value_type, wrapped_value)\n\u001b[1;32m     83\u001b[0m \u001b[39melse\u001b[39;00m:\n",
      "File \u001b[0;32m~/Documents/Github/tomok/tomok/tomok/ifc/type_conv.py:33\u001b[0m, in \u001b[0;36mifc_single_value_to_python\u001b[0;34m(value_type, wrapped_value)\u001b[0m\n\u001b[1;32m     32\u001b[0m \u001b[39melse\u001b[39;00m:\n\u001b[0;32m---> 33\u001b[0m     \u001b[39mraise\u001b[39;00m \u001b[39mTypeError\u001b[39;00m(\u001b[39m'\u001b[39m\u001b[39mcurrently \u001b[39m\u001b[39m{0}\u001b[39;00m\u001b[39m (\u001b[39m\u001b[39m{1}\u001b[39;00m\u001b[39m, \u001b[39m\u001b[39m{2}\u001b[39;00m\u001b[39m) type is not handled in IFCReader\u001b[39m\u001b[39m'\u001b[39m\u001b[39m.\u001b[39mformat(\n\u001b[1;32m     34\u001b[0m         value_type, wrapped_value, \u001b[39mtype\u001b[39m(wrapped_value)))\n",
      "\u001b[0;31mTypeError\u001b[0m: currently IfcCountMeasure (5, <class 'int'>) type is not handled in IFCReader",
      "\nDuring handling of the above exception, another exception occurred:\n",
      "\u001b[0;31mException\u001b[0m                                 Traceback (most recent call last)",
      "\u001b[1;32m/Users/jaewooklee/Documents/Github/tomok/tomok/test.ipynb 셀 2\u001b[0m line \u001b[0;36m1\n\u001b[0;32m----> <a href='vscode-notebook-cell:/Users/jaewooklee/Documents/Github/tomok/tomok/test.ipynb#X30sZmlsZQ%3D%3D?line=0'>1</a>\u001b[0m IFCReader(ifc_filepath\u001b[39m=\u001b[39;49m\u001b[39m\"\u001b[39;49m\u001b[39m/Users/jaewooklee/Documents/Github/tomok/tomok/ED_extension_usingToolkit_v2.ifc\u001b[39;49m\u001b[39m\"\u001b[39;49m)\u001b[39m.\u001b[39;49mget_products()\n",
      "File \u001b[0;32m~/Documents/Github/tomok/tomok/tomok/ifc/reader.py:174\u001b[0m, in \u001b[0;36mIFCReader.get_products\u001b[0;34m(self, ifc_product_type, description, identification)\u001b[0m\n\u001b[1;32m    172\u001b[0m         \u001b[39mreturn\u001b[39;00m identification \u001b[39min\u001b[39;00m product\u001b[39m.\u001b[39midentifications\n\u001b[1;32m    173\u001b[0m products \u001b[39m=\u001b[39m \u001b[39mself\u001b[39m\u001b[39m.\u001b[39mget_ifc_products(ifc_product_type\u001b[39m=\u001b[39mifc_product_type)\n\u001b[0;32m--> 174\u001b[0m easy_products \u001b[39m=\u001b[39m [Product(\u001b[39mself\u001b[39m\u001b[39m.\u001b[39mifc, product) \u001b[39mfor\u001b[39;00m product \u001b[39min\u001b[39;00m products]\n\u001b[1;32m    175\u001b[0m easy_products \u001b[39m=\u001b[39m [\n\u001b[1;32m    176\u001b[0m     p \u001b[39mfor\u001b[39;00m p \u001b[39min\u001b[39;00m easy_products \u001b[39mif\u001b[39;00m \u001b[39mfilter\u001b[39m(p) \u001b[39mand\u001b[39;00m id_filter(p)]\n\u001b[1;32m    178\u001b[0m \u001b[39m# find guid of all easy_products\u001b[39;00m\n",
      "File \u001b[0;32m~/Documents/Github/tomok/tomok/tomok/ifc/reader.py:174\u001b[0m, in \u001b[0;36m<listcomp>\u001b[0;34m(.0)\u001b[0m\n\u001b[1;32m    172\u001b[0m         \u001b[39mreturn\u001b[39;00m identification \u001b[39min\u001b[39;00m product\u001b[39m.\u001b[39midentifications\n\u001b[1;32m    173\u001b[0m products \u001b[39m=\u001b[39m \u001b[39mself\u001b[39m\u001b[39m.\u001b[39mget_ifc_products(ifc_product_type\u001b[39m=\u001b[39mifc_product_type)\n\u001b[0;32m--> 174\u001b[0m easy_products \u001b[39m=\u001b[39m [Product(\u001b[39mself\u001b[39;49m\u001b[39m.\u001b[39;49mifc, product) \u001b[39mfor\u001b[39;00m product \u001b[39min\u001b[39;00m products]\n\u001b[1;32m    175\u001b[0m easy_products \u001b[39m=\u001b[39m [\n\u001b[1;32m    176\u001b[0m     p \u001b[39mfor\u001b[39;00m p \u001b[39min\u001b[39;00m easy_products \u001b[39mif\u001b[39;00m \u001b[39mfilter\u001b[39m(p) \u001b[39mand\u001b[39;00m id_filter(p)]\n\u001b[1;32m    178\u001b[0m \u001b[39m# find guid of all easy_products\u001b[39;00m\n",
      "File \u001b[0;32m~/Documents/Github/tomok/tomok/tomok/ifc/entity.py:26\u001b[0m, in \u001b[0;36mProduct.__init__\u001b[0;34m(self, ifc, entity)\u001b[0m\n\u001b[1;32m     23\u001b[0m \u001b[39mself\u001b[39m\u001b[39m.\u001b[39mdecision_rules \u001b[39m=\u001b[39m []\n\u001b[1;32m     24\u001b[0m \u001b[39mself\u001b[39m\u001b[39m.\u001b[39mindirect_rules \u001b[39m=\u001b[39m []\n\u001b[0;32m---> 26\u001b[0m \u001b[39mself\u001b[39;49m\u001b[39m.\u001b[39;49mparse()\n\u001b[1;32m     27\u001b[0m \u001b[39mself\u001b[39m\u001b[39m.\u001b[39mset_attributes()\n",
      "File \u001b[0;32m~/Documents/Github/tomok/tomok/tomok/ifc/entity.py:32\u001b[0m, in \u001b[0;36mProduct.parse\u001b[0;34m(self)\u001b[0m\n\u001b[1;32m     29\u001b[0m \u001b[39mdef\u001b[39;00m \u001b[39mparse\u001b[39m(\n\u001b[1;32m     30\u001b[0m     \u001b[39mself\u001b[39m\n\u001b[1;32m     31\u001b[0m ):\n\u001b[0;32m---> 32\u001b[0m     \u001b[39mself\u001b[39m\u001b[39m.\u001b[39mtree \u001b[39m=\u001b[39m get_tree(\u001b[39mself\u001b[39;49m\u001b[39m.\u001b[39;49mifc, \u001b[39mself\u001b[39;49m\u001b[39m.\u001b[39;49mentity)\n",
      "File \u001b[0;32m~/Documents/Github/tomok/tomok/tomok/ifc/parse.py:88\u001b[0m, in \u001b[0;36mget_tree\u001b[0;34m(ifc, from_entity, filter_is_a)\u001b[0m\n\u001b[1;32m     86\u001b[0m     \u001b[39mprint\u001b[39m(ex)\n\u001b[1;32m     87\u001b[0m     \u001b[39mprint\u001b[39m(\u001b[39mlist\u001b[39m(iter_inverse(ifc\u001b[39m=\u001b[39mifc, from_entity\u001b[39m=\u001b[39mfrom_entity, filter_is_a\u001b[39m=\u001b[39mfilter_is_a)))\n\u001b[0;32m---> 88\u001b[0m     \u001b[39mraise\u001b[39;00m \u001b[39mException\u001b[39;00m()\n\u001b[1;32m     89\u001b[0m \u001b[39mreturn\u001b[39;00m tree[from_entity\u001b[39m.\u001b[39mis_a()]\n",
      "\u001b[0;31mException\u001b[0m: "
     ]
    }
   ],
   "source": [
    "IFCReader(ifc_filepath=\"/Users/jaewooklee/Documents/Github/tomok/tomok/ED_extension_usingToolkit_v2.ifc\").get_products()"
   ]
  }
 ],
 "metadata": {
  "kernelspec": {
   "display_name": "Python 3",
   "language": "python",
   "name": "python3"
  },
  "language_info": {
   "codemirror_mode": {
    "name": "ipython",
    "version": 3
   },
   "file_extension": ".py",
   "mimetype": "text/x-python",
   "name": "python",
   "nbconvert_exporter": "python",
   "pygments_lexer": "ipython3",
   "version": "3.9.16"
  },
  "orig_nbformat": 4
 },
 "nbformat": 4,
 "nbformat_minor": 2
}
