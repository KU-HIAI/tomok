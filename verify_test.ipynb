{
 "cells": [
  {
   "cell_type": "code",
   "execution_count": 1,
   "metadata": {},
   "outputs": [],
   "source": [
    "from tomok import IFCReader, RuleUnitController, RuleIFCController"
   ]
  },
  {
   "cell_type": "code",
   "execution_count": 2,
   "metadata": {},
   "outputs": [],
   "source": [
    "rule_units = RuleUnitController('ruleunits')\n",
    "rule_ifcs = RuleIFCController('ruleifc', rule_units)"
   ]
  },
  {
   "cell_type": "code",
   "execution_count": 3,
   "metadata": {},
   "outputs": [
    {
     "data": {
      "text/html": [
       "<div>\n",
       "<style scoped>\n",
       "    .dataframe tbody tr th:only-of-type {\n",
       "        vertical-align: middle;\n",
       "    }\n",
       "\n",
       "    .dataframe tbody tr th {\n",
       "        vertical-align: top;\n",
       "    }\n",
       "\n",
       "    .dataframe thead th {\n",
       "        text-align: right;\n",
       "    }\n",
       "</style>\n",
       "<table border=\"1\" class=\"dataframe\">\n",
       "  <thead>\n",
       "    <tr style=\"text-align: right;\">\n",
       "      <th></th>\n",
       "      <th>filename</th>\n",
       "      <th>priority</th>\n",
       "      <th>ref_code</th>\n",
       "      <th>title</th>\n",
       "      <th>author</th>\n",
       "      <th>ref_url</th>\n",
       "    </tr>\n",
       "  </thead>\n",
       "  <tbody>\n",
       "    <tr>\n",
       "      <th>0</th>\n",
       "      <td>ruleifc_kds142054_040305_01.py</td>\n",
       "      <td>1</td>\n",
       "      <td>KDS 14 20 54 4.3.5 (1)</td>\n",
       "      <td>단일 부착식 앵커의 공칭부착강도</td>\n",
       "      <td>Seonghan Yoon</td>\n",
       "      <td>https://www.kcsc.re.kr/</td>\n",
       "    </tr>\n",
       "  </tbody>\n",
       "</table>\n",
       "</div>"
      ],
      "text/plain": [
       "                         filename  priority                ref_code  \\\n",
       "0  ruleifc_kds142054_040305_01.py         1  KDS 14 20 54 4.3.5 (1)   \n",
       "\n",
       "               title         author                  ref_url  \n",
       "0  단일 부착식 앵커의 공칭부착강도  Seonghan Yoon  https://www.kcsc.re.kr/  "
      ]
     },
     "execution_count": 3,
     "metadata": {},
     "output_type": "execute_result"
    }
   ],
   "source": [
    "rule_ifcs.rules_df"
   ]
  },
  {
   "cell_type": "code",
   "execution_count": 4,
   "metadata": {},
   "outputs": [
    {
     "name": "stdout",
     "output_type": "stream",
     "text": [
      "filename    ruleifc_kds142054_040305_01.py\n",
      "priority                                 1\n",
      "ref_code            KDS 14 20 54 4.3.5 (1)\n",
      "title                    단일 부착식 앵커의 공칭부착강도\n",
      "author                       Seonghan Yoon\n",
      "ref_url            https://www.kcsc.re.kr/\n",
      "Name: 0, dtype: object\n"
     ]
    }
   ],
   "source": [
    "rule_ifcs.show_rule(0)"
   ]
  },
  {
   "cell_type": "code",
   "execution_count": 5,
   "metadata": {},
   "outputs": [],
   "source": [
    "reader = IFCReader(ifc_filepath=\"ED_extension_usingToolkit_v2.ifc\")"
   ]
  },
  {
   "cell_type": "code",
   "execution_count": 6,
   "metadata": {},
   "outputs": [
    {
     "name": "stdout",
     "output_type": "stream",
     "text": [
      "1\n",
      "Pass\n",
      "process end.\n"
     ]
    },
    {
     "data": {
      "text/plain": [
       "['선택된 인덱스에 대해 검사 시작',\n",
       " '룰 제목 : 단일 부착식 앵커의 공칭부착강도',\n",
       " '[단일 부착식 앵커의 공칭부착강도 검사] 결과 : PASS / (#206896, Column-1020)',\n",
       " '검사 완료']"
      ]
     },
     "execution_count": 6,
     "metadata": {},
     "output_type": "execute_result"
    }
   ],
   "source": [
    "rule_ifcs.verify(reader, 0, \"3s45s2y_vBWuTHL$ihTpyq\")"
   ]
  },
  {
   "cell_type": "code",
   "execution_count": 7,
   "metadata": {},
   "outputs": [
    {
     "name": "stdout",
     "output_type": "stream",
     "text": [
      "1\n",
      "Pass\n",
      "process end.\n"
     ]
    },
    {
     "data": {
      "text/plain": [
       "['검사 시작',\n",
       " '룰 제목 : 단일 부착식 앵커의 공칭부착강도',\n",
       " '[단일 부착식 앵커의 공칭부착강도 검사] 결과 : PASS / (#206896, Column-1020)',\n",
       " '검사 완료']"
      ]
     },
     "execution_count": 7,
     "metadata": {},
     "output_type": "execute_result"
    }
   ],
   "source": [
    "rule_ifcs.verify_all(reader, \"3s45s2y_vBWuTHL$ihTpyq\")"
   ]
  },
  {
   "cell_type": "code",
   "execution_count": 8,
   "metadata": {},
   "outputs": [
    {
     "name": "stderr",
     "output_type": "stream",
     "text": [
      "100%|██████████| 10/10 [00:00<00:00, 928.74it/s]"
     ]
    },
    {
     "name": "stdout",
     "output_type": "stream",
     "text": [
      "1\n",
      "Pass\n",
      "process end.\n",
      "1\n",
      "Pass\n",
      "process end.\n",
      "1\n",
      "Pass\n",
      "process end.\n",
      "1\n",
      "Pass\n",
      "process end.\n",
      "1\n",
      "Pass\n",
      "process end.\n",
      "1\n",
      "Pass\n",
      "process end.\n",
      "1\n",
      "Pass\n",
      "process end.\n",
      "1\n",
      "Pass\n",
      "process end.\n",
      "1\n",
      "Pass\n",
      "process end.\n",
      "1\n",
      "Pass\n",
      "process end.\n"
     ]
    },
    {
     "name": "stderr",
     "output_type": "stream",
     "text": [
      "\n"
     ]
    }
   ],
   "source": [
    "import tqdm\n",
    "\n",
    "for _ in tqdm.tqdm(range(10)):\n",
    "    rule_ifcs.verify(reader, 0, \"3s45s2y_vBWuTHL$ihTpyq\")\n"
   ]
  }
 ],
 "metadata": {
  "kernelspec": {
   "display_name": "Python 3",
   "language": "python",
   "name": "python3"
  },
  "language_info": {
   "codemirror_mode": {
    "name": "ipython",
    "version": 3
   },
   "file_extension": ".py",
   "mimetype": "text/x-python",
   "name": "python",
   "nbconvert_exporter": "python",
   "pygments_lexer": "ipython3",
   "version": "3.10.6"
  },
  "orig_nbformat": 4
 },
 "nbformat": 4,
 "nbformat_minor": 2
}
