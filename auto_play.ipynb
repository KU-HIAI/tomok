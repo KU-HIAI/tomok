{
 "cells": [
  {
   "cell_type": "code",
   "execution_count": 9,
   "metadata": {},
   "outputs": [
    {
     "name": "stdout",
     "output_type": "stream",
     "text": [
      "Executing /Users/jaewooklee/Documents/Github/tomok_assets/tomok_assets/ruleunits_auto_play/kcs/142012/030201_06.py\n",
      "Executing /Users/jaewooklee/Documents/Github/tomok_assets/tomok_assets/ruleunits_auto_play/kcs/142012/030301_03.py\n",
      "Executing /Users/jaewooklee/Documents/Github/tomok_assets/tomok_assets/ruleunits_auto_play/kcs/142012/010603_02.py\n",
      "Executing /Users/jaewooklee/Documents/Github/tomok_assets/tomok_assets/ruleunits_auto_play/kcs/142012/030201_08.py\n",
      "Executing /Users/jaewooklee/Documents/Github/tomok_assets/tomok_assets/ruleunits_auto_play/kcs/142012/010603_03.py\n",
      "Executing /Users/jaewooklee/Documents/Github/tomok_assets/tomok_assets/ruleunits_auto_play/kcs/142012/010603_14.py\n"
     ]
    },
    {
     "ename": "KeyboardInterrupt",
     "evalue": "",
     "output_type": "error",
     "traceback": [
      "\u001b[0;31m---------------------------------------------------------------------------\u001b[0m",
      "\u001b[0;31mKeyboardInterrupt\u001b[0m                         Traceback (most recent call last)",
      "\u001b[1;32m/Users/jaewooklee/Documents/Github/tomok/tomok/auto_play.ipynb 셀 1\u001b[0m line \u001b[0;36m2\n\u001b[1;32m     <a href='vscode-notebook-cell:/Users/jaewooklee/Documents/Github/tomok/tomok/auto_play.ipynb#W1sZmlsZQ%3D%3D?line=22'>23</a>\u001b[0m \u001b[39m# 실행하고 싶은 디렉토리 경로를 지정합니다.\u001b[39;00m\n\u001b[1;32m     <a href='vscode-notebook-cell:/Users/jaewooklee/Documents/Github/tomok/tomok/auto_play.ipynb#W1sZmlsZQ%3D%3D?line=23'>24</a>\u001b[0m \u001b[39m# 이 경로는 'ruleunits' 디렉토리의 실제 경로로 설정해야 합니다.\u001b[39;00m\n\u001b[1;32m     <a href='vscode-notebook-cell:/Users/jaewooklee/Documents/Github/tomok/tomok/auto_play.ipynb#W1sZmlsZQ%3D%3D?line=24'>25</a>\u001b[0m directory_path \u001b[39m=\u001b[39m \u001b[39m\"\u001b[39m\u001b[39m/Users/jaewooklee/Documents/Github/tomok_assets/tomok_assets/ruleunits_auto_play/kcs\u001b[39m\u001b[39m\"\u001b[39m\n\u001b[0;32m---> <a href='vscode-notebook-cell:/Users/jaewooklee/Documents/Github/tomok/tomok/auto_play.ipynb#W1sZmlsZQ%3D%3D?line=25'>26</a>\u001b[0m execute_python_files(directory_path)\n",
      "\u001b[1;32m/Users/jaewooklee/Documents/Github/tomok/tomok/auto_play.ipynb 셀 1\u001b[0m line \u001b[0;36m1\n\u001b[1;32m     <a href='vscode-notebook-cell:/Users/jaewooklee/Documents/Github/tomok/tomok/auto_play.ipynb#W1sZmlsZQ%3D%3D?line=13'>14</a>\u001b[0m     env \u001b[39m=\u001b[39m os\u001b[39m.\u001b[39menviron\u001b[39m.\u001b[39mcopy()\n\u001b[1;32m     <a href='vscode-notebook-cell:/Users/jaewooklee/Documents/Github/tomok/tomok/auto_play.ipynb#W1sZmlsZQ%3D%3D?line=14'>15</a>\u001b[0m     env[\u001b[39m'\u001b[39m\u001b[39mPYTHONPATH\u001b[39m\u001b[39m'\u001b[39m] \u001b[39m=\u001b[39m os\u001b[39m.\u001b[39mpath\u001b[39m.\u001b[39mdirname(file_path) \u001b[39m+\u001b[39m os\u001b[39m.\u001b[39mpathsep \u001b[39m+\u001b[39m env\u001b[39m.\u001b[39mget(\u001b[39m'\u001b[39m\u001b[39mPYTHONPATH\u001b[39m\u001b[39m'\u001b[39m, \u001b[39m'\u001b[39m\u001b[39m'\u001b[39m)\n\u001b[0;32m---> <a href='vscode-notebook-cell:/Users/jaewooklee/Documents/Github/tomok/tomok/auto_play.ipynb#W1sZmlsZQ%3D%3D?line=15'>16</a>\u001b[0m     subprocess\u001b[39m.\u001b[39;49mrun([\u001b[39m\"\u001b[39;49m\u001b[39mpython\u001b[39;49m\u001b[39m\"\u001b[39;49m, file_path], check\u001b[39m=\u001b[39;49m\u001b[39mTrue\u001b[39;49;00m, env\u001b[39m=\u001b[39;49menv)\n\u001b[1;32m     <a href='vscode-notebook-cell:/Users/jaewooklee/Documents/Github/tomok/tomok/auto_play.ipynb#W1sZmlsZQ%3D%3D?line=16'>17</a>\u001b[0m     cnt\u001b[39m+\u001b[39m\u001b[39m=\u001b[39m\u001b[39m1\u001b[39m\n\u001b[1;32m     <a href='vscode-notebook-cell:/Users/jaewooklee/Documents/Github/tomok/tomok/auto_play.ipynb#W1sZmlsZQ%3D%3D?line=17'>18</a>\u001b[0m \u001b[39mexcept\u001b[39;00m subprocess\u001b[39m.\u001b[39mCalledProcessError \u001b[39mas\u001b[39;00m e:\n",
      "File \u001b[0;32m/opt/anaconda3/envs/alltheway/lib/python3.9/subprocess.py:507\u001b[0m, in \u001b[0;36mrun\u001b[0;34m(input, capture_output, timeout, check, *popenargs, **kwargs)\u001b[0m\n\u001b[1;32m    505\u001b[0m \u001b[39mwith\u001b[39;00m Popen(\u001b[39m*\u001b[39mpopenargs, \u001b[39m*\u001b[39m\u001b[39m*\u001b[39mkwargs) \u001b[39mas\u001b[39;00m process:\n\u001b[1;32m    506\u001b[0m     \u001b[39mtry\u001b[39;00m:\n\u001b[0;32m--> 507\u001b[0m         stdout, stderr \u001b[39m=\u001b[39m process\u001b[39m.\u001b[39;49mcommunicate(\u001b[39minput\u001b[39;49m, timeout\u001b[39m=\u001b[39;49mtimeout)\n\u001b[1;32m    508\u001b[0m     \u001b[39mexcept\u001b[39;00m TimeoutExpired \u001b[39mas\u001b[39;00m exc:\n\u001b[1;32m    509\u001b[0m         process\u001b[39m.\u001b[39mkill()\n",
      "File \u001b[0;32m/opt/anaconda3/envs/alltheway/lib/python3.9/subprocess.py:1126\u001b[0m, in \u001b[0;36mPopen.communicate\u001b[0;34m(self, input, timeout)\u001b[0m\n\u001b[1;32m   1124\u001b[0m         stderr \u001b[39m=\u001b[39m \u001b[39mself\u001b[39m\u001b[39m.\u001b[39mstderr\u001b[39m.\u001b[39mread()\n\u001b[1;32m   1125\u001b[0m         \u001b[39mself\u001b[39m\u001b[39m.\u001b[39mstderr\u001b[39m.\u001b[39mclose()\n\u001b[0;32m-> 1126\u001b[0m     \u001b[39mself\u001b[39;49m\u001b[39m.\u001b[39;49mwait()\n\u001b[1;32m   1127\u001b[0m \u001b[39melse\u001b[39;00m:\n\u001b[1;32m   1128\u001b[0m     \u001b[39mif\u001b[39;00m timeout \u001b[39mis\u001b[39;00m \u001b[39mnot\u001b[39;00m \u001b[39mNone\u001b[39;00m:\n",
      "File \u001b[0;32m/opt/anaconda3/envs/alltheway/lib/python3.9/subprocess.py:1189\u001b[0m, in \u001b[0;36mPopen.wait\u001b[0;34m(self, timeout)\u001b[0m\n\u001b[1;32m   1187\u001b[0m     endtime \u001b[39m=\u001b[39m _time() \u001b[39m+\u001b[39m timeout\n\u001b[1;32m   1188\u001b[0m \u001b[39mtry\u001b[39;00m:\n\u001b[0;32m-> 1189\u001b[0m     \u001b[39mreturn\u001b[39;00m \u001b[39mself\u001b[39;49m\u001b[39m.\u001b[39;49m_wait(timeout\u001b[39m=\u001b[39;49mtimeout)\n\u001b[1;32m   1190\u001b[0m \u001b[39mexcept\u001b[39;00m \u001b[39mKeyboardInterrupt\u001b[39;00m:\n\u001b[1;32m   1191\u001b[0m     \u001b[39m# https://bugs.python.org/issue25942\u001b[39;00m\n\u001b[1;32m   1192\u001b[0m     \u001b[39m# The first keyboard interrupt waits briefly for the child to\u001b[39;00m\n\u001b[1;32m   1193\u001b[0m     \u001b[39m# exit under the common assumption that it also received the ^C\u001b[39;00m\n\u001b[1;32m   1194\u001b[0m     \u001b[39m# generated SIGINT and will exit rapidly.\u001b[39;00m\n\u001b[1;32m   1195\u001b[0m     \u001b[39mif\u001b[39;00m timeout \u001b[39mis\u001b[39;00m \u001b[39mnot\u001b[39;00m \u001b[39mNone\u001b[39;00m:\n",
      "File \u001b[0;32m/opt/anaconda3/envs/alltheway/lib/python3.9/subprocess.py:1917\u001b[0m, in \u001b[0;36mPopen._wait\u001b[0;34m(self, timeout)\u001b[0m\n\u001b[1;32m   1915\u001b[0m \u001b[39mif\u001b[39;00m \u001b[39mself\u001b[39m\u001b[39m.\u001b[39mreturncode \u001b[39mis\u001b[39;00m \u001b[39mnot\u001b[39;00m \u001b[39mNone\u001b[39;00m:\n\u001b[1;32m   1916\u001b[0m     \u001b[39mbreak\u001b[39;00m  \u001b[39m# Another thread waited.\u001b[39;00m\n\u001b[0;32m-> 1917\u001b[0m (pid, sts) \u001b[39m=\u001b[39m \u001b[39mself\u001b[39;49m\u001b[39m.\u001b[39;49m_try_wait(\u001b[39m0\u001b[39;49m)\n\u001b[1;32m   1918\u001b[0m \u001b[39m# Check the pid and loop as waitpid has been known to\u001b[39;00m\n\u001b[1;32m   1919\u001b[0m \u001b[39m# return 0 even without WNOHANG in odd situations.\u001b[39;00m\n\u001b[1;32m   1920\u001b[0m \u001b[39m# http://bugs.python.org/issue14396.\u001b[39;00m\n\u001b[1;32m   1921\u001b[0m \u001b[39mif\u001b[39;00m pid \u001b[39m==\u001b[39m \u001b[39mself\u001b[39m\u001b[39m.\u001b[39mpid:\n",
      "File \u001b[0;32m/opt/anaconda3/envs/alltheway/lib/python3.9/subprocess.py:1875\u001b[0m, in \u001b[0;36mPopen._try_wait\u001b[0;34m(self, wait_flags)\u001b[0m\n\u001b[1;32m   1873\u001b[0m \u001b[39m\u001b[39m\u001b[39m\"\"\"All callers to this function MUST hold self._waitpid_lock.\"\"\"\u001b[39;00m\n\u001b[1;32m   1874\u001b[0m \u001b[39mtry\u001b[39;00m:\n\u001b[0;32m-> 1875\u001b[0m     (pid, sts) \u001b[39m=\u001b[39m os\u001b[39m.\u001b[39;49mwaitpid(\u001b[39mself\u001b[39;49m\u001b[39m.\u001b[39;49mpid, wait_flags)\n\u001b[1;32m   1876\u001b[0m \u001b[39mexcept\u001b[39;00m \u001b[39mChildProcessError\u001b[39;00m:\n\u001b[1;32m   1877\u001b[0m     \u001b[39m# This happens if SIGCLD is set to be ignored or waiting\u001b[39;00m\n\u001b[1;32m   1878\u001b[0m     \u001b[39m# for child processes has otherwise been disabled for our\u001b[39;00m\n\u001b[1;32m   1879\u001b[0m     \u001b[39m# process.  This child is dead, we can't get the status.\u001b[39;00m\n\u001b[1;32m   1880\u001b[0m     pid \u001b[39m=\u001b[39m \u001b[39mself\u001b[39m\u001b[39m.\u001b[39mpid\n",
      "\u001b[0;31mKeyboardInterrupt\u001b[0m: "
     ]
    }
   ],
   "source": [
    "# auto_play.ipynb 내의 셀에 이 코드를 입력합니다.\n",
    "\n",
    "import os\n",
    "import subprocess\n",
    "def execute_python_files(directory):\n",
    "    cnt = 0\n",
    "    for root, dirs, files in os.walk(directory):\n",
    "        for file in files:\n",
    "            if file.endswith('.py') and file != \"__init__.py\":\n",
    "                file_path = os.path.join(root, file)\n",
    "                try:\n",
    "                    print(f\"Executing {file_path}\")\n",
    "                    # 현재 스크립트의 디렉토리를 환경변수로 전달\n",
    "                    env = os.environ.copy()\n",
    "                    env['PYTHONPATH'] = os.path.dirname(file_path) + os.pathsep + env.get('PYTHONPATH', '')\n",
    "                    subprocess.run([\"python\", file_path], check=True, env=env)\n",
    "                    cnt+=1\n",
    "                except subprocess.CalledProcessError as e:\n",
    "                    print(f\"Error executing {file_path}: {e}\")\n",
    "                    \n",
    "    print(cnt)\n",
    "\n",
    "# 실행하고 싶은 디렉토리 경로를 지정합니다.\n",
    "# 이 경로는 'ruleunits' 디렉토리의 실제 경로로 설정해야 합니다.\n",
    "directory_path = \"/Users/jaewooklee/Documents/Github/tomok_assets/tomok_assets/ruleunits_auto_play/kcs\"\n",
    "execute_python_files(directory_path)"
   ]
  }
 ],
 "metadata": {
  "kernelspec": {
   "display_name": "alltheway",
   "language": "python",
   "name": "python3"
  },
  "language_info": {
   "codemirror_mode": {
    "name": "ipython",
    "version": 3
   },
   "file_extension": ".py",
   "mimetype": "text/x-python",
   "name": "python",
   "nbconvert_exporter": "python",
   "pygments_lexer": "ipython3",
   "version": "3.9.16"
  }
 },
 "nbformat": 4,
 "nbformat_minor": 2
}
