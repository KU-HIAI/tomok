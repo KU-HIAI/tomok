{
 "cells": [
  {
   "cell_type": "code",
   "execution_count": 5,
   "metadata": {},
   "outputs": [
    {
     "ename": "ImportError",
     "evalue": "attempted relative import with no known parent package",
     "output_type": "error",
     "traceback": [
      "\u001b[0;31m---------------------------------------------------------------------------\u001b[0m",
      "\u001b[0;31mImportError\u001b[0m                               Traceback (most recent call last)",
      "\u001b[1;32m/Users/jaewooklee/Documents/Github/tomok/tomok/notebooks/test.ipynb 셀 1\u001b[0m line \u001b[0;36m1\n\u001b[0;32m----> <a href='vscode-notebook-cell:/Users/jaewooklee/Documents/Github/tomok/tomok/notebooks/test.ipynb#W0sZmlsZQ%3D%3D?line=0'>1</a>\u001b[0m \u001b[39mfrom\u001b[39;00m \u001b[39m.\u001b[39;00m\u001b[39m.\u001b[39;00m\u001b[39mtomok\u001b[39;00m\u001b[39m.\u001b[39;00m\u001b[39mcore\u001b[39;00m\u001b[39m.\u001b[39;00m\u001b[39mrule_ifc\u001b[39;00m \u001b[39mimport\u001b[39;00m RuleIFC\n\u001b[1;32m      <a href='vscode-notebook-cell:/Users/jaewooklee/Documents/Github/tomok/tomok/notebooks/test.ipynb#W0sZmlsZQ%3D%3D?line=1'>2</a>\u001b[0m \u001b[39mfrom\u001b[39;00m \u001b[39m.\u001b[39;00m\u001b[39m.\u001b[39;00m\u001b[39mtomok\u001b[39;00m\u001b[39m.\u001b[39;00m\u001b[39mifc\u001b[39;00m\u001b[39m.\u001b[39;00m\u001b[39mreader\u001b[39;00m \u001b[39mimport\u001b[39;00m IFCReader\n\u001b[1;32m      <a href='vscode-notebook-cell:/Users/jaewooklee/Documents/Github/tomok/tomok/notebooks/test.ipynb#W0sZmlsZQ%3D%3D?line=2'>3</a>\u001b[0m \u001b[39mfrom\u001b[39;00m \u001b[39mtomok\u001b[39;00m\u001b[39m.\u001b[39;00m\u001b[39mifc\u001b[39;00m \u001b[39mimport\u001b[39;00m Product\n",
      "\u001b[0;31mImportError\u001b[0m: attempted relative import with no known parent package"
     ]
    }
   ],
   "source": [
    "from tomok.core.rule_ifc import RuleIFC\n",
    "from tomok.ifc.reader import IFCReader\n",
    "from tomok.ifc import Product\n",
    "from KDS_24_14_21_4_6_5_1_5 import KDS_24_14_21_4_6_5_1_5\n",
    "\n",
    "class RuleIFC_KDS_24_14_21_4_6_2_1(RuleIFC):\n",
    "    ruleunit_1 = KDS_24_14_21_4_6_5_1_5()\n",
    "\n",
    "    @classmethod\n",
    "    def retrieve_entities(\n",
    "        cls,\n",
    "        reader: IFCReader):\n",
    "        entities = reader.get_products('IfcSlab')\n",
    "        return entities\n",
    "\n",
    "    @classmethod\n",
    "    def process(cls,\n",
    "                entity: Product):\n",
    "        SLATHI = entity.IfcProfileDef.ProfileSection.ProfileSectionSlabThickness\n",
    "        SLAMINTHI = entity.ReviewValue.ReviewValueSlabMinThickness\n",
    "\n",
    "        return cls.ruleunit_1.slab_min_thickness(SLATHI, SLAMINTHI)"
   ]
  }
 ],
 "metadata": {
  "kernelspec": {
   "display_name": "alltheway",
   "language": "python",
   "name": "python3"
  },
  "language_info": {
   "codemirror_mode": {
    "name": "ipython",
    "version": 3
   },
   "file_extension": ".py",
   "mimetype": "text/x-python",
   "name": "python",
   "nbconvert_exporter": "python",
   "pygments_lexer": "ipython3",
   "version": "3.9.16"
  }
 },
 "nbformat": 4,
 "nbformat_minor": 2
}
